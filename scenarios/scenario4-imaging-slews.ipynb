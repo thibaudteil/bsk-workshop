{
 "cells": [
  {
   "cell_type": "markdown",
   "id": "d1718d29-c4c9-47b7-99f6-963db89ec03e",
   "metadata": {},
   "source": [
    "## Scenario 4\n",
    "\n",
    "### Slew from one mode to another mode of operation (imaging to another imaging scenario, or imaging to sun point)\n"
   ]
  }
 ],
 "metadata": {
  "kernelspec": {
   "display_name": "Python 3 (ipykernel)",
   "language": "python",
   "name": "python3"
  },
  "language_info": {
   "codemirror_mode": {
    "name": "ipython",
    "version": 3
   },
   "file_extension": ".py",
   "mimetype": "text/x-python",
   "name": "python",
   "nbconvert_exporter": "python",
   "pygments_lexer": "ipython3",
   "version": "3.10.9"
  }
 },
 "nbformat": 4,
 "nbformat_minor": 5
}
